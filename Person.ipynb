{
 "cells": [
  {
   "cell_type": "code",
   "execution_count": 1,
   "id": "cad8e32e-12d8-415a-9470-7e6ba5e623a0",
   "metadata": {},
   "outputs": [
    {
     "name": "stdout",
     "output_type": "stream",
     "text": [
      "Name:  Hassan Age:  23 Section:  Computer Science\n"
     ]
    }
   ],
   "source": [
    "class Person:\n",
    "    def __init__(self, name, age):\n",
    "        self.name = name\n",
    "        self.age = age\n",
    "\n",
    "    def display(self):\n",
    "        print(self.name)\n",
    "        print(self.age)\n",
    "\n",
    "class Student(Person):\n",
    "    def __init__(self, name, age, section):\n",
    "        super().__init__(name, age)\n",
    "        self.section = section\n",
    "\n",
    "    def displayStudent(self):\n",
    "        print(\"Name: \", self.name, \"Age: \", self.age, \"Section: \", self.section)\n",
    "\n",
    "\n",
    "obj = Student(\"Hassan\", 23, \"Computer Science\")\n",
    "obj.displayStudent()\n",
    "    \n",
    "    "
   ]
  },
  {
   "cell_type": "code",
   "execution_count": null,
   "id": "b71abf8d-94ed-420c-b57f-74aa4eb09465",
   "metadata": {},
   "outputs": [],
   "source": []
  }
 ],
 "metadata": {
  "kernelspec": {
   "display_name": "Python 3 (ipykernel)",
   "language": "python",
   "name": "python3"
  },
  "language_info": {
   "codemirror_mode": {
    "name": "ipython",
    "version": 3
   },
   "file_extension": ".py",
   "mimetype": "text/x-python",
   "name": "python",
   "nbconvert_exporter": "python",
   "pygments_lexer": "ipython3",
   "version": "3.9.12"
  }
 },
 "nbformat": 4,
 "nbformat_minor": 5
}
