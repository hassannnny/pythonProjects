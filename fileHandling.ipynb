{
 "cells": [
  {
   "cell_type": "code",
   "execution_count": 3,
   "id": "c73466ca-47da-4f64-a0a6-f93266117b10",
   "metadata": {},
   "outputs": [
    {
     "name": "stdout",
     "output_type": "stream",
     "text": [
      "My stance is such \n",
      "That I'm facing the light at the end of the tunnel \n",
      "And that's because \n",
      "My faith in it is twice the strength of the struggle\n"
     ]
    }
   ],
   "source": [
    "f = open(\"poem.txt\", \"r\") \n",
    "print(f.read())"
   ]
  },
  {
   "cell_type": "code",
   "execution_count": 4,
   "id": "22ffba0e-6a62-41b7-abab-d0efd33b26c0",
   "metadata": {},
   "outputs": [
    {
     "name": "stdout",
     "output_type": "stream",
     "text": [
      "3\n"
     ]
    }
   ],
   "source": [
    "count = 0; \n",
    "\n",
    "with open(r\"story.txt\", \"r\") as fp:\n",
    "    for linr in fp: \n",
    "        count += 1 \n",
    "        \n",
    "print(count)"
   ]
  },
  {
   "cell_type": "code",
   "execution_count": 7,
   "id": "6d1fd4f3-a4aa-47ed-a412-3f66451e438f",
   "metadata": {},
   "outputs": [
    {
     "name": "stdout",
     "output_type": "stream",
     "text": [
      "144\n"
     ]
    }
   ],
   "source": [
    "file = open(\"story.txt\", \"r\") \n",
    "\n",
    "data = file.read() \n",
    "\n",
    "print(len(data))"
   ]
  },
  {
   "cell_type": "code",
   "execution_count": 9,
   "id": "df5527f1-e4b1-4d31-ad2c-d1787171dee8",
   "metadata": {},
   "outputs": [
    {
     "name": "stdout",
     "output_type": "stream",
     "text": [
      "2\n"
     ]
    }
   ],
   "source": [
    "file = open(\"story.txt\", \"r\") \n",
    "count = 0\n",
    "data = file.read() \n",
    "\n",
    "lines = data.split() \n",
    "\n",
    "for word in lines: \n",
    "    if word == \"the\": \n",
    "        count += 1\n",
    "\n",
    "\n",
    "print(count)      \n"
   ]
  },
  {
   "cell_type": "code",
   "execution_count": 13,
   "id": "5ea4d045-d967-46d4-8b97-31ec0bb6379b",
   "metadata": {},
   "outputs": [
    {
     "name": "stdout",
     "output_type": "stream",
     "text": [
      "A boy is is a An is in the The sky is and are in the "
     ]
    }
   ],
   "source": [
    "file = open(\"story.txt\", \"r\") \n",
    "count = 0\n",
    "data = file.read() \n",
    "\n",
    "lines = data.split()\n",
    "\n",
    "for word in lines:\n",
    "    if len(word) < 4:\n",
    "        print(word, end=\" \")"
   ]
  },
  {
   "cell_type": "code",
   "execution_count": 23,
   "id": "54353092-d436-4baf-8119-16d011f8bf8f",
   "metadata": {},
   "outputs": [
    {
     "name": "stdout",
     "output_type": "stream",
     "text": [
      "3\n"
     ]
    }
   ],
   "source": [
    "file = open(\"article.txt\", \"r\") \n",
    "count = 0\n",
    "data = file.read() \n",
    "\n",
    "lines = data.split()\n",
    "\n",
    "for word in lines: \n",
    "    if word == 'this' or word == 'these': \n",
    "        count += 1\n",
    "        \n",
    "        \n",
    "print(count)\n"
   ]
  },
  {
   "cell_type": "code",
   "execution_count": 25,
   "id": "add3effa-901a-427d-a55c-2cf5b4abb64e",
   "metadata": {},
   "outputs": [
    {
     "name": "stdout",
     "output_type": "stream",
     "text": [
      "14\n"
     ]
    }
   ],
   "source": [
    "file = open(\"article.txt\", \"r\") \n",
    "count = 0\n",
    "data = file.read() \n",
    "lines = data.split()\n",
    "\n",
    "for word in lines: \n",
    "    if word[-1] == 'e':\n",
    "        count += 1\n",
    "        \n",
    "        \n",
    "print(count)"
   ]
  },
  {
   "cell_type": "code",
   "execution_count": 28,
   "id": "d5d53e47-4344-4925-a83a-736d74648ae5",
   "metadata": {},
   "outputs": [
    {
     "name": "stdout",
     "output_type": "stream",
     "text": [
      "9\n"
     ]
    }
   ],
   "source": [
    "file = open(\"article.txt\", \"r\") \n",
    "count = 0\n",
    "data = file.read() \n",
    "lines = data.split()\n",
    "\n",
    "for word in lines: \n",
    "    for letter in word:\n",
    "        if letter.isupper():\n",
    "            count += 1\n",
    "        \n",
    "        \n",
    "print(count)"
   ]
  }
 ],
 "metadata": {
  "kernelspec": {
   "display_name": "Python 3 (ipykernel)",
   "language": "python",
   "name": "python3"
  },
  "language_info": {
   "codemirror_mode": {
    "name": "ipython",
    "version": 3
   },
   "file_extension": ".py",
   "mimetype": "text/x-python",
   "name": "python",
   "nbconvert_exporter": "python",
   "pygments_lexer": "ipython3",
   "version": "3.9.12"
  }
 },
 "nbformat": 4,
 "nbformat_minor": 5
}
