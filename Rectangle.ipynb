{
 "cells": [
  {
   "cell_type": "code",
   "execution_count": 25,
   "id": "48ec9af7-b17e-4dac-9b3f-1a24a4e2570f",
   "metadata": {},
   "outputs": [
    {
     "name": "stdout",
     "output_type": "stream",
     "text": [
      "5\n",
      "40\n",
      "75\n"
     ]
    }
   ],
   "source": [
    "class rectangle:\n",
    "    def __init__(self, length, width): \n",
    "        self.length = length\n",
    "        self.width = width \n",
    "    \n",
    "    def createRec(self): \n",
    "        for l in range(0, self.length): \n",
    "            for w in range(0, self.width):\n",
    "                print(\"-\", end=\"\")\n",
    "            print(\"\\n\")\n",
    "            \n",
    "    def Perimeter(self):\n",
    "        return (self.length + self.width) * 2\n",
    "        \n",
    "    \n",
    "    def Area(self):\n",
    "        return self.length * self.width\n",
    "    \n",
    "    def display(self):\n",
    "        print(self.length)\n",
    "        print(self.Perimeter())\n",
    "        print(self.Area())\n",
    "        \n",
    "        \n",
    "class Parallelepipede(rectangle)\n",
    "        def __init__(self, length, width, height):\n",
    "        super().__init__(length, width) \n",
    "        self.height = height;\n",
    "        \n",
    "        def volume(self):\n",
    "            return self.length * self.width * self.height\n",
    "        \n",
    "        \n",
    "obj = rectangle(5, 15) \n",
    "obj.display()"
   ]
  },
  {
   "cell_type": "code",
   "execution_count": null,
   "id": "8cfb5dce-3370-416d-8254-50d311edd760",
   "metadata": {},
   "outputs": [],
   "source": []
  }
 ],
 "metadata": {
  "kernelspec": {
   "display_name": "Python 3 (ipykernel)",
   "language": "python",
   "name": "python3"
  },
  "language_info": {
   "codemirror_mode": {
    "name": "ipython",
    "version": 3
   },
   "file_extension": ".py",
   "mimetype": "text/x-python",
   "name": "python",
   "nbconvert_exporter": "python",
   "pygments_lexer": "ipython3",
   "version": "3.9.12"
  }
 },
 "nbformat": 4,
 "nbformat_minor": 5
}
