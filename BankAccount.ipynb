{
 "cells": [
  {
   "cell_type": "code",
   "execution_count": 1,
   "id": "0b570b8a-4113-4327-baa7-aea9a2cbb160",
   "metadata": {},
   "outputs": [
    {
     "name": "stdout",
     "output_type": "stream",
     "text": [
      "Account Number:  123456\n",
      "Name:  Hassan\n",
      "Balance:  100000000000000000000\n"
     ]
    }
   ],
   "source": [
    "class BankAccount:\n",
    "\n",
    "    def __init__(self, accountNumber, name, balance):\n",
    "        self.accountNumber = accountNumber\n",
    "        self.name = name\n",
    "        self.balance = balance\n",
    "\n",
    "    def Deposit(self, amount):\n",
    "        self.balance += amount\n",
    "\n",
    "    def Withdraw(self, amount):\n",
    "        self.balance -= amount\n",
    "\n",
    "\n",
    "    def bankFees(self):\n",
    "        self.balance = self.balance - (self.balance * 0.05)\n",
    "\n",
    "\n",
    "    def display(self):\n",
    "        print(\"Account Number: \", self.accountNumber)\n",
    "        print(\"Name: \", self.name)\n",
    "        print(\"Balance: \", self.balance)\n",
    "\n",
    "\n",
    "obj = BankAccount(123456, \"Hassan\", 100000000000000000000)\n",
    "obj.display()"
   ]
  },
  {
   "cell_type": "code",
   "execution_count": null,
   "id": "b5359b68-928f-4179-a416-647ab3155dba",
   "metadata": {},
   "outputs": [],
   "source": []
  }
 ],
 "metadata": {
  "kernelspec": {
   "display_name": "Python 3 (ipykernel)",
   "language": "python",
   "name": "python3"
  },
  "language_info": {
   "codemirror_mode": {
    "name": "ipython",
    "version": 3
   },
   "file_extension": ".py",
   "mimetype": "text/x-python",
   "name": "python",
   "nbconvert_exporter": "python",
   "pygments_lexer": "ipython3",
   "version": "3.9.12"
  }
 },
 "nbformat": 4,
 "nbformat_minor": 5
}
